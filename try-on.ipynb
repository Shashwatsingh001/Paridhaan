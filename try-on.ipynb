{
 "cells": [
  {
   "cell_type": "code",
   "execution_count": 1,
   "metadata": {},
   "outputs": [
    {
     "name": "stdout",
     "output_type": "stream",
     "text": [
      "Requirement already satisfied: gradio_client in c:\\users\\rishabh\\appdata\\local\\programs\\python\\python312\\lib\\site-packages (1.4.3)\n",
      "Requirement already satisfied: fsspec in c:\\users\\rishabh\\appdata\\local\\programs\\python\\python312\\lib\\site-packages (from gradio_client) (2024.10.0)\n",
      "Requirement already satisfied: httpx>=0.24.1 in c:\\users\\rishabh\\appdata\\local\\programs\\python\\python312\\lib\\site-packages (from gradio_client) (0.27.2)\n",
      "Requirement already satisfied: huggingface-hub>=0.19.3 in c:\\users\\rishabh\\appdata\\local\\programs\\python\\python312\\lib\\site-packages (from gradio_client) (0.26.2)\n",
      "Requirement already satisfied: packaging in c:\\users\\rishabh\\appdata\\roaming\\python\\python312\\site-packages (from gradio_client) (24.2)\n",
      "Requirement already satisfied: typing-extensions~=4.0 in c:\\users\\rishabh\\appdata\\local\\programs\\python\\python312\\lib\\site-packages (from gradio_client) (4.12.2)\n",
      "Requirement already satisfied: websockets<13.0,>=10.0 in c:\\users\\rishabh\\appdata\\local\\programs\\python\\python312\\lib\\site-packages (from gradio_client) (12.0)\n",
      "Requirement already satisfied: anyio in c:\\users\\rishabh\\appdata\\local\\programs\\python\\python312\\lib\\site-packages (from httpx>=0.24.1->gradio_client) (4.6.2.post1)\n",
      "Requirement already satisfied: certifi in c:\\users\\rishabh\\appdata\\local\\programs\\python\\python312\\lib\\site-packages (from httpx>=0.24.1->gradio_client) (2024.8.30)\n",
      "Requirement already satisfied: httpcore==1.* in c:\\users\\rishabh\\appdata\\local\\programs\\python\\python312\\lib\\site-packages (from httpx>=0.24.1->gradio_client) (1.0.7)\n",
      "Requirement already satisfied: idna in c:\\users\\rishabh\\appdata\\local\\programs\\python\\python312\\lib\\site-packages (from httpx>=0.24.1->gradio_client) (3.10)\n",
      "Requirement already satisfied: sniffio in c:\\users\\rishabh\\appdata\\local\\programs\\python\\python312\\lib\\site-packages (from httpx>=0.24.1->gradio_client) (1.3.1)\n",
      "Requirement already satisfied: h11<0.15,>=0.13 in c:\\users\\rishabh\\appdata\\local\\programs\\python\\python312\\lib\\site-packages (from httpcore==1.*->httpx>=0.24.1->gradio_client) (0.14.0)\n",
      "Requirement already satisfied: filelock in c:\\users\\rishabh\\appdata\\local\\programs\\python\\python312\\lib\\site-packages (from huggingface-hub>=0.19.3->gradio_client) (3.16.1)\n",
      "Requirement already satisfied: pyyaml>=5.1 in c:\\users\\rishabh\\appdata\\local\\programs\\python\\python312\\lib\\site-packages (from huggingface-hub>=0.19.3->gradio_client) (6.0.2)\n",
      "Requirement already satisfied: requests in c:\\users\\rishabh\\appdata\\local\\programs\\python\\python312\\lib\\site-packages (from huggingface-hub>=0.19.3->gradio_client) (2.32.3)\n",
      "Requirement already satisfied: tqdm>=4.42.1 in c:\\users\\rishabh\\appdata\\local\\programs\\python\\python312\\lib\\site-packages (from huggingface-hub>=0.19.3->gradio_client) (4.67.0)\n",
      "Requirement already satisfied: colorama in c:\\users\\rishabh\\appdata\\roaming\\python\\python312\\site-packages (from tqdm>=4.42.1->huggingface-hub>=0.19.3->gradio_client) (0.4.6)\n",
      "Requirement already satisfied: charset-normalizer<4,>=2 in c:\\users\\rishabh\\appdata\\local\\programs\\python\\python312\\lib\\site-packages (from requests->huggingface-hub>=0.19.3->gradio_client) (3.4.0)\n",
      "Requirement already satisfied: urllib3<3,>=1.21.1 in c:\\users\\rishabh\\appdata\\local\\programs\\python\\python312\\lib\\site-packages (from requests->huggingface-hub>=0.19.3->gradio_client) (2.2.3)\n",
      "Note: you may need to restart the kernel to use updated packages.\n"
     ]
    },
    {
     "name": "stderr",
     "output_type": "stream",
     "text": [
      "\n",
      "[notice] A new release of pip is available: 24.2 -> 24.3.1\n",
      "[notice] To update, run: python.exe -m pip install --upgrade pip\n",
      "c:\\Users\\Rishabh\\AppData\\Local\\Programs\\Python\\Python312\\Lib\\site-packages\\tqdm\\auto.py:21: TqdmWarning: IProgress not found. Please update jupyter and ipywidgets. See https://ipywidgets.readthedocs.io/en/stable/user_install.html\n",
      "  from .autonotebook import tqdm as notebook_tqdm\n"
     ]
    },
    {
     "name": "stdout",
     "output_type": "stream",
     "text": [
      "Loaded as API: https://e84396d1788b39a527.gradio.live/ ✔\n"
     ]
    },
    {
     "ename": "ValueError",
     "evalue": "Could not fetch config for https://e84396d1788b39a527.gradio.live/",
     "output_type": "error",
     "traceback": [
      "\u001b[1;31m---------------------------------------------------------------------------\u001b[0m",
      "\u001b[1;31mValueError\u001b[0m                                Traceback (most recent call last)",
      "Cell \u001b[1;32mIn[1], line 5\u001b[0m\n\u001b[0;32m      2\u001b[0m \u001b[38;5;28;01mfrom\u001b[39;00m \u001b[38;5;21;01mgradio_client\u001b[39;00m \u001b[38;5;28;01mimport\u001b[39;00m Client, handle_file\n\u001b[0;32m      3\u001b[0m \u001b[38;5;28;01mimport\u001b[39;00m \u001b[38;5;21;01mjson\u001b[39;00m\n\u001b[1;32m----> 5\u001b[0m client \u001b[38;5;241m=\u001b[39m \u001b[43mClient\u001b[49m\u001b[43m(\u001b[49m\u001b[38;5;124;43m\"\u001b[39;49m\u001b[38;5;124;43mhttps://e84396d1788b39a527.gradio.live\u001b[39;49m\u001b[38;5;124;43m\"\u001b[39;49m\u001b[43m)\u001b[49m\n\u001b[0;32m      6\u001b[0m result \u001b[38;5;241m=\u001b[39m client\u001b[38;5;241m.\u001b[39mpredict(\n\u001b[0;32m      7\u001b[0m \t\tcloth_image\u001b[38;5;241m=\u001b[39mhandle_file(\u001b[38;5;124m'\u001b[39m\u001b[38;5;124mR:/Refactoring/7th sem Major Project/Project/Backend/me2.jpg\u001b[39m\u001b[38;5;124m'\u001b[39m),\n\u001b[0;32m      8\u001b[0m \t\torigin_image\u001b[38;5;241m=\u001b[39mhandle_file(\u001b[38;5;124m'\u001b[39m\u001b[38;5;124mR:/Refactoring/7th sem Major Project/Project/Backend/me2.jpg\u001b[39m\u001b[38;5;124m'\u001b[39m),\n\u001b[0;32m      9\u001b[0m \t\tapi_name\u001b[38;5;241m=\u001b[39m\u001b[38;5;124m\"\u001b[39m\u001b[38;5;124m/predict\u001b[39m\u001b[38;5;124m\"\u001b[39m\n\u001b[0;32m     10\u001b[0m )\n\u001b[0;32m     11\u001b[0m \u001b[38;5;66;03m# Extract the result (output ID is the image path)\u001b[39;00m\n",
      "File \u001b[1;32mc:\\Users\\Rishabh\\AppData\\Local\\Programs\\Python\\Python312\\Lib\\site-packages\\gradio_client\\client.py:153\u001b[0m, in \u001b[0;36mClient.__init__\u001b[1;34m(self, src, hf_token, max_workers, verbose, auth, httpx_kwargs, headers, download_files, ssl_verify, _skip_components)\u001b[0m\n\u001b[0;32m    150\u001b[0m \u001b[38;5;28;01mif\u001b[39;00m auth \u001b[38;5;129;01mis\u001b[39;00m \u001b[38;5;129;01mnot\u001b[39;00m \u001b[38;5;28;01mNone\u001b[39;00m:\n\u001b[0;32m    151\u001b[0m     \u001b[38;5;28mself\u001b[39m\u001b[38;5;241m.\u001b[39m_login(auth)\n\u001b[1;32m--> 153\u001b[0m \u001b[38;5;28mself\u001b[39m\u001b[38;5;241m.\u001b[39mconfig \u001b[38;5;241m=\u001b[39m \u001b[38;5;28;43mself\u001b[39;49m\u001b[38;5;241;43m.\u001b[39;49m\u001b[43m_get_config\u001b[49m\u001b[43m(\u001b[49m\u001b[43m)\u001b[49m\n\u001b[0;32m    154\u001b[0m \u001b[38;5;28mself\u001b[39m\u001b[38;5;241m.\u001b[39mprotocol: Literal[\u001b[38;5;124m\"\u001b[39m\u001b[38;5;124mws\u001b[39m\u001b[38;5;124m\"\u001b[39m, \u001b[38;5;124m\"\u001b[39m\u001b[38;5;124msse\u001b[39m\u001b[38;5;124m\"\u001b[39m, \u001b[38;5;124m\"\u001b[39m\u001b[38;5;124msse_v1\u001b[39m\u001b[38;5;124m\"\u001b[39m, \u001b[38;5;124m\"\u001b[39m\u001b[38;5;124msse_v2\u001b[39m\u001b[38;5;124m\"\u001b[39m, \u001b[38;5;124m\"\u001b[39m\u001b[38;5;124msse_v2.1\u001b[39m\u001b[38;5;124m\"\u001b[39m] \u001b[38;5;241m=\u001b[39m (\n\u001b[0;32m    155\u001b[0m     \u001b[38;5;28mself\u001b[39m\u001b[38;5;241m.\u001b[39mconfig\u001b[38;5;241m.\u001b[39mget(\u001b[38;5;124m\"\u001b[39m\u001b[38;5;124mprotocol\u001b[39m\u001b[38;5;124m\"\u001b[39m, \u001b[38;5;124m\"\u001b[39m\u001b[38;5;124mws\u001b[39m\u001b[38;5;124m\"\u001b[39m)\n\u001b[0;32m    156\u001b[0m )\n\u001b[0;32m    157\u001b[0m api_prefix: \u001b[38;5;28mstr\u001b[39m \u001b[38;5;241m=\u001b[39m \u001b[38;5;28mself\u001b[39m\u001b[38;5;241m.\u001b[39mconfig\u001b[38;5;241m.\u001b[39mget(\u001b[38;5;124m\"\u001b[39m\u001b[38;5;124mapi_prefix\u001b[39m\u001b[38;5;124m\"\u001b[39m, \u001b[38;5;124m\"\u001b[39m\u001b[38;5;124m\"\u001b[39m)\n",
      "File \u001b[1;32mc:\\Users\\Rishabh\\AppData\\Local\\Programs\\Python\\Python312\\Lib\\site-packages\\gradio_client\\client.py:885\u001b[0m, in \u001b[0;36mClient._get_config\u001b[1;34m(self)\u001b[0m\n\u001b[0;32m    877\u001b[0m r \u001b[38;5;241m=\u001b[39m httpx\u001b[38;5;241m.\u001b[39mget(\n\u001b[0;32m    878\u001b[0m     \u001b[38;5;28mself\u001b[39m\u001b[38;5;241m.\u001b[39msrc,\n\u001b[0;32m    879\u001b[0m     headers\u001b[38;5;241m=\u001b[39m\u001b[38;5;28mself\u001b[39m\u001b[38;5;241m.\u001b[39mheaders,\n\u001b[1;32m   (...)\u001b[0m\n\u001b[0;32m    882\u001b[0m     \u001b[38;5;241m*\u001b[39m\u001b[38;5;241m*\u001b[39m\u001b[38;5;28mself\u001b[39m\u001b[38;5;241m.\u001b[39mhttpx_kwargs,\n\u001b[0;32m    883\u001b[0m )\n\u001b[0;32m    884\u001b[0m \u001b[38;5;28;01mif\u001b[39;00m \u001b[38;5;129;01mnot\u001b[39;00m r\u001b[38;5;241m.\u001b[39mis_success:\n\u001b[1;32m--> 885\u001b[0m     \u001b[38;5;28;01mraise\u001b[39;00m \u001b[38;5;167;01mValueError\u001b[39;00m(\u001b[38;5;124mf\u001b[39m\u001b[38;5;124m\"\u001b[39m\u001b[38;5;124mCould not fetch config for \u001b[39m\u001b[38;5;132;01m{\u001b[39;00m\u001b[38;5;28mself\u001b[39m\u001b[38;5;241m.\u001b[39msrc\u001b[38;5;132;01m}\u001b[39;00m\u001b[38;5;124m\"\u001b[39m)\n\u001b[0;32m    886\u001b[0m \u001b[38;5;66;03m# some basic regex to extract the config\u001b[39;00m\n\u001b[0;32m    887\u001b[0m result \u001b[38;5;241m=\u001b[39m re\u001b[38;5;241m.\u001b[39msearch(\u001b[38;5;124mr\u001b[39m\u001b[38;5;124m\"\u001b[39m\u001b[38;5;124mwindow.gradio_config = (.*?);[\u001b[39m\u001b[38;5;124m\\\u001b[39m\u001b[38;5;124ms]*</script>\u001b[39m\u001b[38;5;124m\"\u001b[39m, r\u001b[38;5;241m.\u001b[39mtext)\n",
      "\u001b[1;31mValueError\u001b[0m: Could not fetch config for https://e84396d1788b39a527.gradio.live/"
     ]
    }
   ],
   "source": [
    "%pip install gradio_client\n",
    "from gradio_client import Client, handle_file\n",
    "import json\n",
    "\n",
    "client = Client(\"https://e84396d1788b39a527.gradio.live\")\n",
    "result = client.predict(\n",
    "\t\tcloth_image=handle_file('R:/Refactoring/7th sem Major Project/Project/Backend/me2.jpg'),\n",
    "\t\torigin_image=handle_file('R:/Refactoring/7th sem Major Project/Project/Backend/me2.jpg'),\n",
    "\t\tapi_name=\"/predict\"\n",
    ")\n",
    "# Extract the result (output ID is the image path)\n",
    "output_id = result\n",
    "\n",
    "output_id=result\n",
    "with open(\"R:/Refactoring/7th sem Major Project/Project/Backend/output.json\", \"w\") as outfile:\n",
    "    json.dump({'id':output_id}, outfile)\n",
    "print(result)"
   ]
  }
 ],
 "metadata": {
  "kernelspec": {
   "display_name": "Python 3",
   "language": "python",
   "name": "python3"
  },
  "language_info": {
   "codemirror_mode": {
    "name": "ipython",
    "version": 3
   },
   "file_extension": ".py",
   "mimetype": "text/x-python",
   "name": "python",
   "nbconvert_exporter": "python",
   "pygments_lexer": "ipython3",
   "version": "3.12.7"
  }
 },
 "nbformat": 4,
 "nbformat_minor": 2
}
